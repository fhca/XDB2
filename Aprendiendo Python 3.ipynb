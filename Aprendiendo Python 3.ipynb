{
 "cells": [
  {
   "cell_type": "markdown",
   "metadata": {},
   "source": [
    "# Aprendiendo Python (versión 3)\n",
    "## Parte 1: Básico"
   ]
  },
  {
   "cell_type": "code",
   "execution_count": 1,
   "metadata": {
    "collapsed": false
   },
   "outputs": [
    {
     "data": {
      "text/plain": [
       "42"
      ]
     },
     "execution_count": 1,
     "metadata": {},
     "output_type": "execute_result"
    }
   ],
   "source": [
    "# Las líneas con gato (#), son comentarios\n",
    "# ... pero hay que poner un gato por línea\n",
    "# ... y lo que está antes del gato no es comentario.\n",
    "42 # ... es respuesta a la pregunta fundamental a la vida, el universo y todo lo demás."
   ]
  },
  {
   "cell_type": "markdown",
   "metadata": {},
   "source": [
    "Tanto en la consola de Python como en las libretas de Jupyter, cuando tecleas un valor y lo corres (con [ENTER] o [SHIFT][ENTER], según el caso), se muestra enseguida dicho valor. Un ejemplo de esto es el 42 de la línea anterior."
   ]
  },
  {
   "cell_type": "code",
   "execution_count": 2,
   "metadata": {
    "collapsed": false
   },
   "outputs": [
    {
     "data": {
      "text/plain": [
       "'El respeto al derecho ajeno es la paz.'"
      ]
     },
     "execution_count": 2,
     "metadata": {},
     "output_type": "execute_result"
    }
   ],
   "source": [
    "# Ejemplos de valores en Python\n",
    "\"El respeto al derecho ajeno es la paz.\"  # cadena"
   ]
  },
  {
   "cell_type": "code",
   "execution_count": 3,
   "metadata": {
    "collapsed": false
   },
   "outputs": [
    {
     "data": {
      "text/plain": [
       "'Fernando \"el Toro\" Valenzuela'"
      ]
     },
     "execution_count": 3,
     "metadata": {},
     "output_type": "execute_result"
    }
   ],
   "source": [
    "'Fernando \"el Toro\" Valenzuela'  # cadena (por si requieres usar comillas dentro de una cadena)"
   ]
  },
  {
   "cell_type": "code",
   "execution_count": 4,
   "metadata": {
    "collapsed": false
   },
   "outputs": [
    {
     "data": {
      "text/plain": [
       "(2, 3, 4)"
      ]
     },
     "execution_count": 4,
     "metadata": {},
     "output_type": "execute_result"
    }
   ],
   "source": [
    "(2,3,4)  # esto se llama \"tupla\" en python"
   ]
  },
  {
   "cell_type": "code",
   "execution_count": 5,
   "metadata": {
    "collapsed": false
   },
   "outputs": [
    {
     "data": {
      "text/plain": [
       "[2, 3, 4]"
      ]
     },
     "execution_count": 5,
     "metadata": {},
     "output_type": "execute_result"
    }
   ],
   "source": [
    "[2,3,4]  # esto se llama \"lista\" en python"
   ]
  },
  {
   "cell_type": "code",
   "execution_count": 6,
   "metadata": {
    "collapsed": false
   },
   "outputs": [
    {
     "data": {
      "text/plain": [
       "'cadena con triple comilla\\nque puede ocupar varias líneas...'"
      ]
     },
     "execution_count": 6,
     "metadata": {},
     "output_type": "execute_result"
    }
   ],
   "source": [
    "\"\"\"cadena con triple comilla\n",
    "que puede ocupar varias líneas...\"\"\""
   ]
  },
  {
   "cell_type": "markdown",
   "metadata": {},
   "source": [
    "En las libretas, sólo el último valor se mostrará. En un programa (archivo con código y terminación '`.py`'), tendrás que usar `print` para mostrar valores, pues los valores por si sólos, como en los ejemplos anteriores, equivalen a comentarios:"
   ]
  },
  {
   "cell_type": "code",
   "execution_count": 7,
   "metadata": {
    "collapsed": false
   },
   "outputs": [
    {
     "data": {
      "text/plain": [
       "2"
      ]
     },
     "execution_count": 7,
     "metadata": {},
     "output_type": "execute_result"
    }
   ],
   "source": [
    "\"Lo siguiente calcula una suma:\"\n",
    "2+3\n",
    "4-2   # Jupyter sólo muestra el último valor"
   ]
  },
  {
   "cell_type": "code",
   "execution_count": 8,
   "metadata": {
    "collapsed": false
   },
   "outputs": [
    {
     "name": "stdout",
     "output_type": "stream",
     "text": [
      "5\n",
      "2\n"
     ]
    }
   ],
   "source": [
    "print(2+3)\n",
    "print(4-2)  # sin embargo, con print se muestran todos los valores de una celda"
   ]
  },
  {
   "cell_type": "code",
   "execution_count": 9,
   "metadata": {
    "collapsed": false
   },
   "outputs": [
    {
     "name": "stdout",
     "output_type": "stream",
     "text": [
      "Hola\n"
     ]
    }
   ],
   "source": [
    "print(\"Hola\")"
   ]
  },
  {
   "cell_type": "code",
   "execution_count": 10,
   "metadata": {
    "collapsed": false
   },
   "outputs": [
    {
     "name": "stdout",
     "output_type": "stream",
     "text": [
      "cadena con triple comilla\n",
      "que puede ocupar varias líneas...\n"
     ]
    }
   ],
   "source": [
    "print(\"\"\"cadena con triple comilla\n",
    "que puede ocupar varias líneas...\"\"\")"
   ]
  },
  {
   "cell_type": "code",
   "execution_count": 11,
   "metadata": {
    "collapsed": false
   },
   "outputs": [
    {
     "name": "stdout",
     "output_type": "stream",
     "text": [
      "5\n"
     ]
    }
   ],
   "source": [
    "print(2 + 3)"
   ]
  },
  {
   "cell_type": "markdown",
   "metadata": {},
   "source": [
    "En Python 2 no es necesario poner paréntesis con el `print`. En Python 3 el `print` DEBE llevar paréntesis."
   ]
  },
  {
   "cell_type": "markdown",
   "metadata": {},
   "source": [
    "## Operadores"
   ]
  },
  {
   "cell_type": "code",
   "execution_count": 12,
   "metadata": {
    "collapsed": false
   },
   "outputs": [
    {
     "data": {
      "text/plain": [
       "2"
      ]
     },
     "execution_count": 12,
     "metadata": {},
     "output_type": "execute_result"
    }
   ],
   "source": [
    "# División entera de enteros\n",
    "7 // 3"
   ]
  },
  {
   "cell_type": "code",
   "execution_count": 13,
   "metadata": {
    "collapsed": false
   },
   "outputs": [
    {
     "data": {
      "text/plain": [
       "1"
      ]
     },
     "execution_count": 13,
     "metadata": {},
     "output_type": "execute_result"
    }
   ],
   "source": [
    "# Módulo, a % b = c, si c es el residuo de la división de a entre b, i.e. (a // b) * b + c == a\n",
    "7 % 3"
   ]
  },
  {
   "cell_type": "code",
   "execution_count": 14,
   "metadata": {
    "collapsed": false
   },
   "outputs": [
    {
     "data": {
      "text/plain": [
       "True"
      ]
     },
     "execution_count": 14,
     "metadata": {},
     "output_type": "execute_result"
    }
   ],
   "source": [
    "# Compara valores (devuelve un valor booleano, verdadero o falso)\n",
    "2 * 3 == 6"
   ]
  },
  {
   "cell_type": "code",
   "execution_count": 15,
   "metadata": {
    "collapsed": false
   },
   "outputs": [
    {
     "data": {
      "text/plain": [
       "False"
      ]
     },
     "execution_count": 15,
     "metadata": {},
     "output_type": "execute_result"
    }
   ],
   "source": [
    "2 * 3 < 5"
   ]
  },
  {
   "cell_type": "markdown",
   "metadata": {},
   "source": [
    "## Variables"
   ]
  },
  {
   "cell_type": "markdown",
   "metadata": {},
   "source": [
    "Para poderte referir a valores se pueden usar \"variables\", en Python estas son más como _etiquetas_ que se le _cuelgan_ a valores existentes. Los valores en Python se llaman formalmente **objetos**."
   ]
  },
  {
   "cell_type": "code",
   "execution_count": 16,
   "metadata": {
    "collapsed": false
   },
   "outputs": [
    {
     "name": "stdout",
     "output_type": "stream",
     "text": [
      "5\n"
     ]
    }
   ],
   "source": [
    "x = 5\n",
    "print(x)"
   ]
  },
  {
   "cell_type": "code",
   "execution_count": 17,
   "metadata": {
    "collapsed": true
   },
   "outputs": [],
   "source": [
    "y = x**2 + 2*x + 7"
   ]
  },
  {
   "cell_type": "code",
   "execution_count": 18,
   "metadata": {
    "collapsed": false
   },
   "outputs": [
    {
     "name": "stdout",
     "output_type": "stream",
     "text": [
      "Valor de x: 5 Valor de y: 42\n"
     ]
    }
   ],
   "source": [
    "print(\"Valor de x:\", x, \"Valor de y:\", y)"
   ]
  },
  {
   "cell_type": "code",
   "execution_count": 19,
   "metadata": {
    "collapsed": false
   },
   "outputs": [
    {
     "name": "stdout",
     "output_type": "stream",
     "text": [
      "Hola\n"
     ]
    }
   ],
   "source": [
    "# Todo en Python es objeto...\n",
    "p = print\n",
    "p(\"Hola\")"
   ]
  },
  {
   "cell_type": "markdown",
   "metadata": {},
   "source": [
    "Como puedes notar, en Python las \"variables\" no se \"declaran\", así su _tipo de dato_ es el del objeto que en ese momento tienen asignado."
   ]
  },
  {
   "cell_type": "code",
   "execution_count": 20,
   "metadata": {
    "collapsed": false
   },
   "outputs": [
    {
     "data": {
      "text/plain": [
       "(int, int)"
      ]
     },
     "execution_count": 20,
     "metadata": {},
     "output_type": "execute_result"
    }
   ],
   "source": [
    "x = 5\n",
    "type(5),  type(x)"
   ]
  },
  {
   "cell_type": "markdown",
   "metadata": {},
   "source": [
    "Todo objeto en Python tiene un _identificador_ único (difiere con cada corrida del programa). Pero nota como la variable no es un objeto por si misma, si no que es únicamente el objeto que tiene asignado:"
   ]
  },
  {
   "cell_type": "code",
   "execution_count": 21,
   "metadata": {
    "collapsed": false
   },
   "outputs": [
    {
     "name": "stdout",
     "output_type": "stream",
     "text": [
      "id(5): 4297366624\n",
      "id(x): 4297366624\n",
      "id(y): 4297366624\n",
      "id(6): 4297366656\n"
     ]
    }
   ],
   "source": [
    "x = 5\n",
    "y = 5\n",
    "print(\"id(5):\", id(5))\n",
    "print(\"id(x):\", id(x))  # El mismo que 5\n",
    "print(\"id(y):\", id(y))  # el mismo que 5\n",
    "print(\"id(6):\", id(6))  # otro valor"
   ]
  },
  {
   "cell_type": "markdown",
   "metadata": {},
   "source": [
    "En Python se pueden hacer listas de lo que sea... algunos las usan como arreglos o matrices, aunque no son muy veloces. Pero son muy útiles para pequeñas aplicaciones."
   ]
  },
  {
   "cell_type": "code",
   "execution_count": 22,
   "metadata": {
    "collapsed": false
   },
   "outputs": [
    {
     "name": "stdout",
     "output_type": "stream",
     "text": [
      "[1, 2, 3]\n",
      "[4, 5, 6]\n",
      "[1, 2, 3, 4, 5, 6]\n"
     ]
    }
   ],
   "source": [
    "a = [1, 2, 3]\n",
    "b = [4, 5, 6]\n",
    "print(a)\n",
    "print(b)\n",
    "print(a+b)  # '+' concatena listas (crea una nueva lista)"
   ]
  },
  {
   "cell_type": "markdown",
   "metadata": {},
   "source": [
    "Las listas son muy flexibles, aunque eso tiene un precio en espacio y tiempo de ejecución:"
   ]
  },
  {
   "cell_type": "code",
   "execution_count": 23,
   "metadata": {
    "collapsed": false
   },
   "outputs": [
    {
     "name": "stdout",
     "output_type": "stream",
     "text": [
      "['cabeza', ['pancita', [1, 2, 3, 'etc.']], 'colita']\n",
      "3\n"
     ]
    }
   ],
   "source": [
    "a = [\"cabeza\", [\"pancita\", [1, 2, 3, \"etc.\"]], \"colita\"]\n",
    "print(a)\n",
    "print(len(a))  # numero de elementos de la lista (en su nivel más exterior)"
   ]
  },
  {
   "cell_type": "markdown",
   "metadata": {
    "collapsed": true
   },
   "source": [
    "Un objeto se destruye si no hay variables que lo tengan asignado. Basta con reasignar una variable para \"destruir\" el objeto que contenía. Así en Python no tienes que preocuparte (mucho) por destruir objetos, se destruyen cuando ya no los usas."
   ]
  },
  {
   "cell_type": "code",
   "execution_count": 24,
   "metadata": {
    "collapsed": false
   },
   "outputs": [
    {
     "name": "stdout",
     "output_type": "stream",
     "text": [
      "x es una lista de 1000000 enteros\n",
      "x ocupa 9000112 bytes\n",
      "x ahora es un sólo entero\n",
      "x ahora ocupa 28 bytes\n"
     ]
    }
   ],
   "source": [
    "x = list(range(1000000))\n",
    "print(\"x es una lista de\", len(x), \"enteros\")\n",
    "import sys\n",
    "print(\"x ocupa\", sys.getsizeof(x), \"bytes\")\n",
    "x = 5\n",
    "print(\"x ahora es un sólo entero\")\n",
    "print(\"x ahora ocupa\", sys.getsizeof(x), \"bytes\")"
   ]
  },
  {
   "cell_type": "markdown",
   "metadata": {},
   "source": [
    "## Iteraciones"
   ]
  },
  {
   "cell_type": "code",
   "execution_count": 25,
   "metadata": {
    "collapsed": false
   },
   "outputs": [
    {
     "name": "stdout",
     "output_type": "stream",
     "text": [
      "poly quiere una galleta, poly quiere una galleta, poly quiere una galleta, \n"
     ]
    }
   ],
   "source": [
    "print(\"poly quiere una galleta, \" * 3)"
   ]
  },
  {
   "cell_type": "code",
   "execution_count": 26,
   "metadata": {
    "collapsed": false
   },
   "outputs": [
    {
     "name": "stdout",
     "output_type": "stream",
     "text": [
      "* * * * * \n",
      "* * * * * \n",
      "* * * * * \n",
      "* * * * * \n",
      "* * * * * \n",
      "* * * * * \n",
      "* * * * * \n",
      "* * * * * \n",
      "* * * * * \n",
      "* * * * * \n",
      "\n"
     ]
    }
   ],
   "source": [
    "# las repeticiones de cadenas pueden ser más complicadas\n",
    "print((\"* \"*5+\"\\n\")*10)"
   ]
  },
  {
   "cell_type": "code",
   "execution_count": 27,
   "metadata": {
    "collapsed": false
   },
   "outputs": [
    {
     "name": "stdout",
     "output_type": "stream",
     "text": [
      "quiero mango\n",
      "quiero plátano\n",
      "quiero pera\n",
      "quiero manzana\n"
     ]
    }
   ],
   "source": [
    "# for sirve para \"iterar\" sobre una lista o tupla\n",
    "frutas = ['mango', 'plátano', 'pera', 'manzana']\n",
    "for f in frutas:\n",
    "    print(\"quiero\", f)"
   ]
  },
  {
   "cell_type": "code",
   "execution_count": 28,
   "metadata": {
    "collapsed": false
   },
   "outputs": [
    {
     "name": "stdout",
     "output_type": "stream",
     "text": [
      "1 : quiero mango\n",
      "2 : quiero plátano\n",
      "3 : quiero pera\n",
      "4 : quiero manzana\n"
     ]
    }
   ],
   "source": [
    "# En Python, al contrario de otros lenguajes, no se suele iterar incrementando un entero\n",
    "# e indexar un iterable con él, aunque es posible, sino que se itera sobre objetos \"iterables\",\n",
    "# una lista o tupla, por ejemplo, y de ser necesario, se puede recuperar el índice \n",
    "# del elemento actual de diversas formas, con un contador, o con enumerate:\n",
    "for i, f in enumerate(frutas):\n",
    "    print(i+1, \": quiero\", f)"
   ]
  },
  {
   "cell_type": "code",
   "execution_count": 29,
   "metadata": {
    "collapsed": false
   },
   "outputs": [
    {
     "name": "stdout",
     "output_type": "stream",
     "text": [
      "La pera es muy jugosa!\n"
     ]
    }
   ],
   "source": [
    "print(\"La\", frutas[2], \"es muy jugosa!\")  # después de una coma y alrededor de operadores se\n",
    "                                          # acostumbra dejar espacios en blanco por claridad"
   ]
  },
  {
   "cell_type": "code",
   "execution_count": 30,
   "metadata": {
    "collapsed": false
   },
   "outputs": [
    {
     "name": "stdout",
     "output_type": "stream",
     "text": [
      "Una manzana al dia trae salud y alegría.\n"
     ]
    }
   ],
   "source": [
    "# el último elemento de toda lista tiene índice -1, el penúltimo -2, etc.\n",
    "print(\"Una\", frutas[-1], \"al dia trae salud y alegría.\")"
   ]
  },
  {
   "cell_type": "code",
   "execution_count": 31,
   "metadata": {
    "collapsed": false
   },
   "outputs": [
    {
     "name": "stdout",
     "output_type": "stream",
     "text": [
      "['mango', 'plátano', 'pera', 'manzana']\n"
     ]
    }
   ],
   "source": [
    "print(frutas)"
   ]
  },
  {
   "cell_type": "code",
   "execution_count": 32,
   "metadata": {
    "collapsed": false
   },
   "outputs": [
    {
     "name": "stdout",
     "output_type": "stream",
     "text": [
      "['mango', 'plátano', 'pera', 'manzana', 'mango', 'plátano', 'pera', 'manzana', 'mango', 'plátano', 'pera', 'manzana', 'mango', 'plátano', 'pera', 'manzana', 'mango', 'plátano', 'pera', 'manzana']\n"
     ]
    }
   ],
   "source": [
    "print(frutas * 5)"
   ]
  },
  {
   "cell_type": "code",
   "execution_count": 33,
   "metadata": {
    "collapsed": false
   },
   "outputs": [
    {
     "name": "stdout",
     "output_type": "stream",
     "text": [
      "['mango', 'plátano', 'pera', 'manzana', 'aguacate']\n"
     ]
    }
   ],
   "source": [
    "frutas.append(\"aguacate\")\n",
    "print(frutas)"
   ]
  },
  {
   "cell_type": "code",
   "execution_count": 34,
   "metadata": {
    "collapsed": false
   },
   "outputs": [
    {
     "name": "stdout",
     "output_type": "stream",
     "text": [
      "quiero más aguacate\n",
      "quiero más manzana\n",
      "quiero más plátano\n",
      "quiero más kiwi\n",
      "quiero más frambuesa\n",
      "quiero más pera\n",
      "quiero más fresa\n",
      "quiero más mango\n"
     ]
    }
   ],
   "source": [
    "frutas = ['mango', 'plátano', 'pera', 'manzana', 'aguacate']\n",
    "frutas.extend([\"fresa\", \"kiwi\", \"frambuesa\"]) # agrega varias de una vez\n",
    "import random  # trae el módulo para aleatorizar\n",
    "random.shuffle(frutas) # revuelve la lista\n",
    "for _ in frutas: print(\"quiero más\", _)  # se puede poner una expresión de una sola linea\n",
    "                                         # aunque se desaconseja"
   ]
  },
  {
   "cell_type": "code",
   "execution_count": 35,
   "metadata": {
    "collapsed": false
   },
   "outputs": [
    {
     "name": "stdout",
     "output_type": "stream",
     "text": [
      "x ocupa 8000048 bytes\n"
     ]
    }
   ],
   "source": [
    "# Las tuplas son como las listas pero NO se pueden modificar\n",
    "# por ello son más rápidas y ocupan menos espacio\n",
    "x = tuple(range(1000000))\n",
    "print(\"x ocupa\", sys.getsizeof(x), \"bytes\")"
   ]
  },
  {
   "cell_type": "code",
   "execution_count": 36,
   "metadata": {
    "collapsed": false
   },
   "outputs": [
    {
     "name": "stdout",
     "output_type": "stream",
     "text": [
      "2\n"
     ]
    }
   ],
   "source": [
    "x = (1, 2, 3)\n",
    "# x.append(4)    # error!\n",
    "print(x[1])"
   ]
  },
  {
   "cell_type": "code",
   "execution_count": 37,
   "metadata": {
    "collapsed": false
   },
   "outputs": [
    {
     "name": "stdout",
     "output_type": "stream",
     "text": [
      "a = 1\n",
      "b = 2\n",
      "c = 3\n"
     ]
    }
   ],
   "source": [
    "# En Python existen las asignaciones a tuplas de variables desde un iterable\n",
    "a, b, c = x\n",
    "print(\"a =\", a)\n",
    "print(\"b =\", b)\n",
    "print(\"c =\", c)"
   ]
  },
  {
   "cell_type": "code",
   "execution_count": 38,
   "metadata": {
    "collapsed": false
   },
   "outputs": [
    {
     "name": "stdout",
     "output_type": "stream",
     "text": [
      "a = 3\n",
      "b = 1\n",
      "c = 2\n"
     ]
    }
   ],
   "source": [
    "b, c, a = a, b, c\n",
    "print(\"a =\", a)\n",
    "print(\"b =\", b)\n",
    "print(\"c =\", c)"
   ]
  },
  {
   "cell_type": "code",
   "execution_count": 39,
   "metadata": {
    "collapsed": false
   },
   "outputs": [
    {
     "name": "stdout",
     "output_type": "stream",
     "text": [
      "x = 7 , y = 5\n"
     ]
    }
   ],
   "source": [
    "x = 5\n",
    "y = 7\n",
    "x, y = y, x  # intercambia dos valores\n",
    "print(\"x =\",x, \", y =\", y)"
   ]
  },
  {
   "cell_type": "code",
   "execution_count": 40,
   "metadata": {
    "collapsed": false
   },
   "outputs": [
    {
     "name": "stdout",
     "output_type": "stream",
     "text": [
      "(0, 0)  (0, 1)  (0, 2)  (0, 3)  (0, 4)  (0, 5)  (0, 6)  \n",
      "(1, 0)  (1, 1)  (1, 2)  (1, 3)  (1, 4)  (1, 5)  (1, 6)  \n",
      "(2, 0)  (2, 1)  (2, 2)  (2, 3)  (2, 4)  (2, 5)  (2, 6)  \n",
      "(3, 0)  (3, 1)  (3, 2)  (3, 3)  (3, 4)  (3, 5)  (3, 6)  \n",
      "(4, 0)  (4, 1)  (4, 2)  (4, 3)  (4, 4)  (4, 5)  (4, 6)  \n"
     ]
    }
   ],
   "source": [
    "# En Python es NECESARIO indentar (poner una cantidad fija de blancos al inicio de una fila)\n",
    "# para indicar filas dentro de un bloque. Como hemos visto, el \"for\" lleva \":\" al final,\n",
    "# indicando que lo que viene es una expresión o un bloque de estas.\n",
    "for fila in range(5):\n",
    "    for columna in range(7):\n",
    "        print((fila, columna), end=\"  \") # en vez de cambiar de línea, se imprime lo de \"end\"\n",
    "    print() # este print está fuera del 2o ciclo, pero dentro del primero"
   ]
  },
  {
   "cell_type": "code",
   "execution_count": 41,
   "metadata": {
    "collapsed": false
   },
   "outputs": [
    {
     "name": "stdout",
     "output_type": "stream",
     "text": [
      "        \n",
      "         \n",
      "        \n",
      "         \n",
      "        \n",
      "         \n",
      "        \n",
      "         \n"
     ]
    }
   ],
   "source": [
    "for i in range(8):\n",
    "    print(\" \" * (i%2) + \" \" * 8)"
   ]
  },
  {
   "cell_type": "code",
   "execution_count": 42,
   "metadata": {
    "collapsed": false
   },
   "outputs": [
    {
     "name": "stdout",
     "output_type": "stream",
     "text": [
      "\n",
      "◊ \n",
      "◊ ◊ \n",
      "◊ ◊ ◊ \n",
      "◊ ◊ ◊ ◊ \n",
      "◊ ◊ ◊ ◊ ◊ \n",
      "◊ ◊ ◊ ◊ ◊ ◊ \n",
      "◊ ◊ ◊ ◊ ◊ ◊ ◊ \n",
      "◊ ◊ ◊ ◊ ◊ ◊ ◊ ◊ \n",
      "◊ ◊ ◊ ◊ ◊ ◊ ◊ ◊ ◊ \n",
      "√√                                      √√\n",
      "  √√                                  √√\n",
      "    √√                              √√\n",
      "      √√                          √√\n",
      "        √√                      √√\n",
      "          √√                  √√\n",
      "            √√              √√\n",
      "              √√          √√\n",
      "                √√      √√\n",
      "                  √√  √√\n"
     ]
    }
   ],
   "source": [
    "for i in range(10):\n",
    "    print(\"◊ \" * i)\n",
    "for i in range(10):\n",
    "    for j in range(i):  # se puede sustituir por multiplicaciones\n",
    "        print(\"  \", end=\"\")\n",
    "    print(\"√√\", end=\"\")\n",
    "    for j in range(19 - 2 * i):  # se puede sustituir por multiplicaciones\n",
    "        print(\"  \", end=\"\")\n",
    "    print(\"√√\")"
   ]
  },
  {
   "cell_type": "markdown",
   "metadata": {},
   "source": [
    "# Condiciones"
   ]
  },
  {
   "cell_type": "code",
   "execution_count": 43,
   "metadata": {
    "collapsed": false
   },
   "outputs": [
    {
     "name": "stdout",
     "output_type": "stream",
     "text": [
      "Dime un número: 8\n",
      "El número 8 es par\n"
     ]
    }
   ],
   "source": [
    "x = int(input(\"Dime un número: \"))\n",
    "if x % 2 == 0:\n",
    "    print(\"El número {} es par\".format(x))\n",
    "else:\n",
    "    print(\"El número {} es impar\".format(x))"
   ]
  },
  {
   "cell_type": "code",
   "execution_count": 44,
   "metadata": {
    "collapsed": false
   },
   "outputs": [
    {
     "name": "stdout",
     "output_type": "stream",
     "text": [
      "Me gusta mucho el mango\n",
      "Me gusta mucho el plátano\n",
      "Me gustan mucho las peras\n",
      "Me gusta mucho la manzana\n",
      "Me gustan mucho los aguacates\n",
      "Me gustan mucho las fresas\n",
      "Me gusta mucho el kiwi\n",
      "Me gusta mucho la frambuesa\n"
     ]
    }
   ],
   "source": [
    "frutas = ['mango', 'plátano', 'peras', 'manzana', 'aguacates', \"fresas\", \"kiwi\", \"frambuesa\"]\n",
    "for f in frutas:\n",
    "    plural = False\n",
    "    if f[-1] == 'a':  # la última letra\n",
    "        artículo = 'la'\n",
    "    elif f[-2:] == 'as':  # las dos últimas letras\n",
    "        artículo = 'las'\n",
    "        plural = True  # línea indentada igual que la anterior, están en el mismo bloque\n",
    "    elif f[-1] == 's':  # en python no hay \"switch\", hay que usar \"elif\" para opciones\n",
    "        artículo = 'los'\n",
    "        plural = True\n",
    "    else:\n",
    "        artículo = 'el'\n",
    "    print(\"Me gusta{} mucho {} {}\".format('n' if plural else '', artículo, f))\n",
    "    # nótese la forma de utilizar el operador ternario condicional para agregar o no una 'n'"
   ]
  },
  {
   "cell_type": "markdown",
   "metadata": {
    "collapsed": true
   },
   "source": [
    "## Funciones y procedimientos\n",
    "En Python se usa `def` para definir una función (se suele llamar \"procedimiento\" a una función que no devuelve valores, ambas usan `def`)."
   ]
  },
  {
   "cell_type": "code",
   "execution_count": 45,
   "metadata": {
    "collapsed": false
   },
   "outputs": [
    {
     "name": "stdout",
     "output_type": "stream",
     "text": [
      "21\n",
      "21\n"
     ]
    }
   ],
   "source": [
    "def f(x):\n",
    "    return x ** 2 - 4\n",
    "\n",
    "print(f(5))\n",
    "g = f  # ahora también podemos usar el nombre 'g'\n",
    "print(g(5))"
   ]
  },
  {
   "cell_type": "code",
   "execution_count": 46,
   "metadata": {
    "collapsed": false
   },
   "outputs": [
    {
     "name": "stdout",
     "output_type": "stream",
     "text": [
      "Obtuve la raiz 2.0 en 2 iteraciones\n",
      "Obtuve la raiz 2.0 en 2 iteraciones\n"
     ]
    }
   ],
   "source": [
    "def newton(a, b, func):\n",
    "    \"Busca una raíz de func en el intervalo [a,b]\"\n",
    "    a, b = float(a), float(b)\n",
    "    iteraciones = 0\n",
    "    permitido = 1e-20  # tolerancia permitida\n",
    "    error = 1  # incializa variable \"error\" a algo mayor que permitido\n",
    "    if func(a) * func(b) > 0:  # error si los extremos evaluados tienen el mismo signo\n",
    "        return '\"error\"', 0\n",
    "    while error > permitido:\n",
    "        iteraciones += 1  # python no tiene ++  :(\n",
    "        c = (a + b) / 2\n",
    "        for x in a, b, c:\n",
    "            if func(x) == 0: return x, iteraciones\n",
    "        if func(a) * func(c) < 0:  # si f(a) y f(c) tienen signos contrarios, hay raiz\n",
    "            b = c\n",
    "        else:\n",
    "            a = c\n",
    "        error = abs(f(c))\n",
    "    return c, iteraciones\n",
    "\n",
    "r = newton(1, 5, f)\n",
    "print(\"Obtuve la raiz {} en {} iteraciones\".format(r[0], r[1]))\n",
    "print(\"Obtuve la raiz {} en {} iteraciones\".format(*r))"
   ]
  },
  {
   "cell_type": "markdown",
   "metadata": {},
   "source": [
    "## Cuidados con los objetos mutables en Python\n",
    "Un objeto es mutable si se le puede cambiar uno de sus elementos constituyentes. Una lista es un ejemplo de objeto mutable. Los enteros no son mutables, tampoco las tuplas."
   ]
  },
  {
   "cell_type": "code",
   "execution_count": 54,
   "metadata": {
    "collapsed": false
   },
   "outputs": [
    {
     "name": "stdout",
     "output_type": "stream",
     "text": [
      "[4, 5, 6, 4, 5, 6, 4, 5, 6, 4, 5, 6]\n",
      "a= [8, 5, 6]\n",
      "b= [4, 5, 6, 4, 5, 6, 4, 5, 6, 4, 5, 6]\n"
     ]
    }
   ],
   "source": [
    "a = [4, 5, 6]\n",
    "b = a * 4\n",
    "print(b)\n",
    "a[0] = 8 # el primer elemento de a cambió.\n",
    "print(\"a=\", a)\n",
    "print(\"b=\", b) # b no contiene mutables, aunque b si sea mutable"
   ]
  },
  {
   "cell_type": "code",
   "execution_count": 48,
   "metadata": {
    "collapsed": false
   },
   "outputs": [
    {
     "name": "stdout",
     "output_type": "stream",
     "text": [
      "[5, 5, 5, 5]\n",
      "[5, 5, 5, 5]\n"
     ]
    }
   ],
   "source": [
    "a = 5\n",
    "c = [a, a, a, a]\n",
    "print(c)\n",
    "a = 7  # a ahora está asociada al objeto 7\n",
    "print(c)  # c sigue conteniendo 4 copias del objeto 5"
   ]
  },
  {
   "cell_type": "code",
   "execution_count": 49,
   "metadata": {
    "collapsed": false
   },
   "outputs": [
    {
     "name": "stdout",
     "output_type": "stream",
     "text": [
      "a= [4, 5, 6] b= [[4, 5, 6], [4, 5, 6], [4, 5, 6], [4, 5, 6]]\n",
      "a= [3, 5, 6] b= [[3, 5, 6], [3, 5, 6], [3, 5, 6], [3, 5, 6]]\n"
     ]
    }
   ],
   "source": [
    "a = [4, 5, 6]\n",
    "b = [a] * 4\n",
    "print(\"a=\", a, \"b=\", b) # b es una lista que contiene 4 *copias* del objeto [4,5,6]\n",
    "a[0] = 3 # a está asociada al objeto [4,5,6], el cual es \"mutable\" y aquí lo modificamos\n",
    "print(\"a=\", a, \"b=\", b)"
   ]
  },
  {
   "cell_type": "code",
   "execution_count": 57,
   "metadata": {
    "collapsed": false
   },
   "outputs": [
    {
     "name": "stdout",
     "output_type": "stream",
     "text": [
      "c= [[12, 5, 6], [12, 5, 6], [12, 5, 6], [12, 5, 6]]\n",
      "a= [12, 5, 6]\n",
      "c= [[12, 5, 6], [12, 5, 6], [12, 5, 6], [12, 5, 6]]\n",
      "c= [3, [30, 5, 6], [30, 5, 6], [30, 5, 6]]\n"
     ]
    }
   ],
   "source": [
    "c = [a, a, a, a] # esto es equivalente a como se construyó b\n",
    "print(\"c=\", c)\n",
    "a[0] = 12\n",
    "print(\"a=\", a)\n",
    "print(\"c=\", c)  # contiene 4 copias del objeto a y como este cambió, c refleja esos cambios\n",
    "c[0] = 3\n",
    "c[1][0] = 30\n",
    "print(\"c=\", c) # el primer elemento de c es ahora inmutable"
   ]
  },
  {
   "cell_type": "code",
   "execution_count": 50,
   "metadata": {
    "collapsed": false
   },
   "outputs": [
    {
     "name": "stdout",
     "output_type": "stream",
     "text": [
      "[[], [], [], [], [], [], [], [], [], []]\n",
      "[[1], [1], [1], [1], [1], [1], [1], [1], [1], [1]]\n",
      "[[2], [2], [2], [2], [2], [2], [2], [2], [2], [2]]\n",
      "[[0], [0], [0], [0], [0], [0], [0], [0], [0], [0]]\n",
      "[[2], [2], [2], [2], [2], [2], [2], [2], [2], [2]]\n",
      "[[0, 0, 0, 0, 0], [0, 0, 0, 0, 0], [0, 0, 0, 0, 0]]\n",
      "[[0, 0, 0, 0, 0], [0, 0, 0, 0, 0], [0, 0, 0, 0, 0]]\n",
      "[[0, 0, 0, 2, 0], [0, 0, 0, 0, 0], [0, 0, 0, 0, 0]]\n"
     ]
    }
   ],
   "source": [
    "# inicializaciones de matrices\n",
    "a = [[]] * 10\n",
    "print(a)  # lista de listas vacías (copias de la misma lista vacía)\n",
    "a[0].append(1) # agrega un elemento a la lista vacía en la primera posición\n",
    "print(a) # como es la misma lista (que era vacía y ahora tiene un 1), eso se ve en las copias\n",
    "a[0][0] = 2 # modificamos una de las listas para que ahora tenga un 2\n",
    "print(a)\n",
    "a = [[0]] * 10  # lo mismo sucede si empezamos con a = [[0]] * 10\n",
    "print(a)\n",
    "a[0][0] = 2\n",
    "print(a)\n",
    "# Lo mejor para inicializar una matriz es:\n",
    "a = []\n",
    "for i in range(3):\n",
    "    b = []\n",
    "    for j in range(5):\n",
    "        b.append(0)\n",
    "    a.append(b)\n",
    "print(a)\n",
    "# o utilizando comprensiones de listas\n",
    "a = [[0 for j in range(5)] for i in range(3)]\n",
    "print(a)\n",
    "a[0][3] = 2\n",
    "print(a)"
   ]
  },
  {
   "cell_type": "code",
   "execution_count": 61,
   "metadata": {
    "collapsed": false
   },
   "outputs": [
    {
     "name": "stdout",
     "output_type": "stream",
     "text": [
      "[[7], [], [], [], [], [12], [], [], [], []]\n"
     ]
    }
   ],
   "source": [
    "# Si se desea, se puede crear una lista de listas vacías independientes con estos métodos\n",
    "a = [[] for i in range(10)]\n",
    "a[0].append(7)\n",
    "a[5].append(12)\n",
    "print(a)"
   ]
  },
  {
   "cell_type": "code",
   "execution_count": 51,
   "metadata": {
    "collapsed": false
   },
   "outputs": [
    {
     "name": "stdout",
     "output_type": "stream",
     "text": [
      "11\n",
      "8\n"
     ]
    }
   ],
   "source": [
    "def añade(número, valor=5):\n",
    "    \"Ejemplo de valores por default.\"\n",
    "    return número + valor\n",
    "\n",
    "print(añade(2, 9))\n",
    "print(añade(3))"
   ]
  },
  {
   "cell_type": "code",
   "execution_count": 58,
   "metadata": {
    "collapsed": false
   },
   "outputs": [
    {
     "name": "stdout",
     "output_type": "stream",
     "text": [
      "id(lista)= 4379763528 lista= [3]\n",
      "id(lista)= 4379763528 lista= [3, 4]\n",
      "id(lista)= 4379763528 lista= [3, 4, 5]\n",
      "id(lista)= 4379517320 lista= [6]\n"
     ]
    }
   ],
   "source": [
    "# Tener cuidado al usar un objeto mutable como default\n",
    "def añade(número, lista=[]):\n",
    "    lista.append(número)\n",
    "    print(\"id(lista)=\", id(lista), \"lista=\", lista)\n",
    "\n",
    "añade(3)\n",
    "añade(4)\n",
    "añade(5)\n",
    "añade(6, [])\n",
    "# el cuidado se debe tener pues a veces se puede asumir que el valor mutable default es el que\n",
    "# continuará utilizándose. El mutable asignado a un valor default continuará siendo el mismo\n",
    "# objeto mientras no se use un nuevo valor para ese objeto."
   ]
  },
  {
   "cell_type": "markdown",
   "metadata": {
    "collapsed": true
   },
   "source": [
    "## Parámetros"
   ]
  },
  {
   "cell_type": "code",
   "execution_count": 1,
   "metadata": {
    "collapsed": true
   },
   "outputs": [],
   "source": [
    "lista_nominal = []\n",
    "def ciudadano(nombre, edad, sexo, domicilio, folio):\n",
    "    lista_nominal.append((nombre, edad, sexo, domicilio, folio))\n",
    "    print(\"Nombre={}\\nEdad={}\\nSexo={}\\nDomicilio={}\\nFolio={}\".format(nombre, edad, sexo, domicilio, folio))"
   ]
  },
  {
   "cell_type": "code",
   "execution_count": 2,
   "metadata": {
    "collapsed": false
   },
   "outputs": [
    {
     "name": "stdout",
     "output_type": "stream",
     "text": [
      "Nombre=CONTRERAS ALCALA FELIPE HUMBERTO\n",
      "Edad=42\n",
      "Sexo=H\n",
      "Domicilio=C LUISA 59 301 COL NATIVITAS ...\n",
      "Folio=123456\n"
     ]
    }
   ],
   "source": [
    "ciudadano(\"CONTRERAS ALCALA FELIPE HUMBERTO\", 42, \"H\", \"C LUISA 59 301 COL NATIVITAS ...\", 123456)"
   ]
  },
  {
   "cell_type": "code",
   "execution_count": 3,
   "metadata": {
    "collapsed": false
   },
   "outputs": [
    {
     "name": "stdout",
     "output_type": "stream",
     "text": [
      "[('CONTRERAS ALCALA FELIPE HUMBERTO', 42, 'H', 'C LUISA 59 301 COL NATIVITAS ...', 123456)]\n"
     ]
    }
   ],
   "source": [
    "print(lista_nominal)"
   ]
  },
  {
   "cell_type": "code",
   "execution_count": 4,
   "metadata": {
    "collapsed": false
   },
   "outputs": [
    {
     "name": "stdout",
     "output_type": "stream",
     "text": [
      "Nombre=SAUL\n",
      "Edad=33\n",
      "Sexo=H\n",
      "Domicilio=El viejo oeste\n",
      "Folio=999666\n"
     ]
    }
   ],
   "source": [
    "ciudadano(\"SAUL\", sexo=\"H\", edad=33, folio=999666, domicilio=\"El viejo oeste\")"
   ]
  },
  {
   "cell_type": "code",
   "execution_count": 5,
   "metadata": {
    "collapsed": false
   },
   "outputs": [
    {
     "name": "stdout",
     "output_type": "stream",
     "text": [
      "[('CONTRERAS ALCALA FELIPE HUMBERTO', 42, 'H', 'C LUISA 59 301 COL NATIVITAS ...', 123456), ('SAUL', 33, 'H', 'El viejo oeste', 999666)]\n"
     ]
    }
   ],
   "source": [
    "print(lista_nominal)"
   ]
  },
  {
   "cell_type": "code",
   "execution_count": 8,
   "metadata": {
    "collapsed": false
   },
   "outputs": [
    {
     "name": "stdout",
     "output_type": "stream",
     "text": [
      "lorito lorito \n",
      "14\n",
      "['manzana', 'kiwi', 'huaya', 'manzana', 'kiwi', 'huaya']\n"
     ]
    }
   ],
   "source": [
    "def duplica(cadena):\n",
    "    print(cadena * 2)\n",
    "\n",
    "duplica(\"lorito \")\n",
    "duplica(7)\n",
    "duplica([\"manzana\", \"kiwi\", \"huaya\"])"
   ]
  },
  {
   "cell_type": "code",
   "execution_count": 9,
   "metadata": {
    "collapsed": false
   },
   "outputs": [
    {
     "name": "stdout",
     "output_type": "stream",
     "text": [
      "perro perro \n",
      "ERROR!\n"
     ]
    }
   ],
   "source": [
    "def duplica_cad(cadena):\n",
    "    if isinstance(cadena, str):\n",
    "        print(cadena * 2)\n",
    "    else:\n",
    "        print(\"ERROR!\")\n",
    "\n",
    "duplica_cad(\"perro \")\n",
    "duplica_cad(56)"
   ]
  },
  {
   "cell_type": "code",
   "execution_count": 2,
   "metadata": {
    "collapsed": false
   },
   "outputs": [
    {
     "data": {
      "text/plain": [
       "tuple"
      ]
     },
     "execution_count": 2,
     "metadata": {},
     "output_type": "execute_result"
    }
   ],
   "source": [
    "x=('a', ['b', 'c'], 'd')\n",
    "type(x)"
   ]
  },
  {
   "cell_type": "code",
   "execution_count": 3,
   "metadata": {
    "collapsed": false
   },
   "outputs": [
    {
     "name": "stdout",
     "output_type": "stream",
     "text": [
      "a\n"
     ]
    }
   ],
   "source": [
    "print(x[0])"
   ]
  },
  {
   "cell_type": "code",
   "execution_count": 5,
   "metadata": {
    "collapsed": false
   },
   "outputs": [
    {
     "ename": "TypeError",
     "evalue": "'tuple' object does not support item assignment",
     "output_type": "error",
     "traceback": [
      "\u001b[0;31m\u001b[0m",
      "\u001b[0;31mTypeError\u001b[0mTraceback (most recent call last)",
      "\u001b[0;32m<ipython-input-5-dc1895957daa>\u001b[0m in \u001b[0;36m<module>\u001b[0;34m()\u001b[0m\n\u001b[0;32m----> 1\u001b[0;31m \u001b[0mx\u001b[0m\u001b[0;34m[\u001b[0m\u001b[0;36m0\u001b[0m\u001b[0;34m]\u001b[0m\u001b[0;34m=\u001b[0m\u001b[0;34m't'\u001b[0m\u001b[0;34m\u001b[0m\u001b[0m\n\u001b[0m",
      "\u001b[0;31mTypeError\u001b[0m: 'tuple' object does not support item assignment"
     ]
    }
   ],
   "source": [
    "x[0]='t'"
   ]
  },
  {
   "cell_type": "code",
   "execution_count": 6,
   "metadata": {
    "collapsed": false
   },
   "outputs": [
    {
     "name": "stdout",
     "output_type": "stream",
     "text": [
      "['b', 'c']\n"
     ]
    }
   ],
   "source": [
    "print(x[1])"
   ]
  },
  {
   "cell_type": "code",
   "execution_count": 9,
   "metadata": {
    "collapsed": false
   },
   "outputs": [],
   "source": [
    "x[1][0]='t'"
   ]
  },
  {
   "cell_type": "code",
   "execution_count": 10,
   "metadata": {
    "collapsed": false
   },
   "outputs": [
    {
     "data": {
      "text/plain": [
       "('a', ['t', 'c'], 'd')"
      ]
     },
     "execution_count": 10,
     "metadata": {},
     "output_type": "execute_result"
    }
   ],
   "source": [
    "x"
   ]
  },
  {
   "cell_type": "code",
   "execution_count": 17,
   "metadata": {
    "collapsed": false
   },
   "outputs": [
    {
     "data": {
      "text/plain": [
       "4395967112"
      ]
     },
     "execution_count": 17,
     "metadata": {},
     "output_type": "execute_result"
    }
   ],
   "source": [
    "id(x)"
   ]
  },
  {
   "cell_type": "code",
   "execution_count": 18,
   "metadata": {
    "collapsed": false
   },
   "outputs": [
    {
     "data": {
      "text/plain": [
       "4317184496"
      ]
     },
     "execution_count": 18,
     "metadata": {},
     "output_type": "execute_result"
    }
   ],
   "source": [
    "id(x[0])"
   ]
  },
  {
   "cell_type": "code",
   "execution_count": 19,
   "metadata": {
    "collapsed": false
   },
   "outputs": [
    {
     "data": {
      "text/plain": [
       "4396055752"
      ]
     },
     "execution_count": 19,
     "metadata": {},
     "output_type": "execute_result"
    }
   ],
   "source": [
    "id(x[1])"
   ]
  },
  {
   "cell_type": "code",
   "execution_count": 20,
   "metadata": {
    "collapsed": false
   },
   "outputs": [
    {
     "data": {
      "text/plain": [
       "4317263776"
      ]
     },
     "execution_count": 20,
     "metadata": {},
     "output_type": "execute_result"
    }
   ],
   "source": [
    "id(x[2])"
   ]
  },
  {
   "cell_type": "code",
   "execution_count": 21,
   "metadata": {
    "collapsed": true
   },
   "outputs": [],
   "source": [
    "x[1][0]='h'"
   ]
  },
  {
   "cell_type": "code",
   "execution_count": 22,
   "metadata": {
    "collapsed": false
   },
   "outputs": [
    {
     "data": {
      "text/plain": [
       "('a', ['h', 'c'], 'd')"
      ]
     },
     "execution_count": 22,
     "metadata": {},
     "output_type": "execute_result"
    }
   ],
   "source": [
    "x"
   ]
  },
  {
   "cell_type": "code",
   "execution_count": 23,
   "metadata": {
    "collapsed": false
   },
   "outputs": [
    {
     "data": {
      "text/plain": [
       "4396055752"
      ]
     },
     "execution_count": 23,
     "metadata": {},
     "output_type": "execute_result"
    }
   ],
   "source": [
    "id(x[1])"
   ]
  },
  {
   "cell_type": "code",
   "execution_count": 24,
   "metadata": {
    "collapsed": false
   },
   "outputs": [
    {
     "data": {
      "text/plain": [
       "'zanahoria'"
      ]
     },
     "execution_count": 24,
     "metadata": {},
     "output_type": "execute_result"
    }
   ],
   "source": [
    "d = {'letuce': 'lechuga', 'onion': 'cebolla', 'tomatoe': 'tomate',\n",
    "    'potatoe':'papa', 'carrot': 'zanahoria', 'celery': 'apio'}\n",
    "d['carrot']"
   ]
  },
  {
   "cell_type": "code",
   "execution_count": 25,
   "metadata": {
    "collapsed": false
   },
   "outputs": [
    {
     "data": {
      "text/plain": [
       "dict_keys(['celery', 'potatoe', 'carrot', 'letuce', 'tomatoe', 'onion'])"
      ]
     },
     "execution_count": 25,
     "metadata": {},
     "output_type": "execute_result"
    }
   ],
   "source": [
    "d.keys()"
   ]
  },
  {
   "cell_type": "code",
   "execution_count": 26,
   "metadata": {
    "collapsed": false
   },
   "outputs": [
    {
     "data": {
      "text/plain": [
       "dict_values(['apio', 'papa', 'zanahoria', 'lechuga', 'tomate', 'cebolla'])"
      ]
     },
     "execution_count": 26,
     "metadata": {},
     "output_type": "execute_result"
    }
   ],
   "source": [
    "d.values()"
   ]
  },
  {
   "cell_type": "code",
   "execution_count": 27,
   "metadata": {
    "collapsed": false
   },
   "outputs": [
    {
     "name": "stdout",
     "output_type": "stream",
     "text": [
      "apio\n",
      "papa\n",
      "zanahoria\n",
      "lechuga\n",
      "tomate\n",
      "cebolla\n"
     ]
    }
   ],
   "source": [
    "for en_veg in d.keys():\n",
    "    print(d[en_veg])"
   ]
  },
  {
   "cell_type": "code",
   "execution_count": 32,
   "metadata": {
    "collapsed": false
   },
   "outputs": [
    {
     "name": "stdout",
     "output_type": "stream",
     "text": [
      "carrot\n"
     ]
    }
   ],
   "source": [
    "for k, v in d.items():\n",
    "    if v == 'zanahoria':\n",
    "        print(k)"
   ]
  },
  {
   "cell_type": "code",
   "execution_count": 35,
   "metadata": {
    "collapsed": false
   },
   "outputs": [
    {
     "data": {
      "text/plain": [
       "'no existe, pero es plátano'"
      ]
     },
     "execution_count": 35,
     "metadata": {},
     "output_type": "execute_result"
    }
   ],
   "source": [
    "d.get('banana', 'no existe, pero es plátano')"
   ]
  },
  {
   "cell_type": "code",
   "execution_count": 36,
   "metadata": {
    "collapsed": false
   },
   "outputs": [
    {
     "ename": "KeyError",
     "evalue": "'banana'",
     "output_type": "error",
     "traceback": [
      "\u001b[0;31m\u001b[0m",
      "\u001b[0;31mKeyError\u001b[0mTraceback (most recent call last)",
      "\u001b[0;32m<ipython-input-36-5725775391ee>\u001b[0m in \u001b[0;36m<module>\u001b[0;34m()\u001b[0m\n\u001b[0;32m----> 1\u001b[0;31m \u001b[0md\u001b[0m\u001b[0;34m[\u001b[0m\u001b[0;34m'banana'\u001b[0m\u001b[0;34m]\u001b[0m\u001b[0;34m\u001b[0m\u001b[0m\n\u001b[0m",
      "\u001b[0;31mKeyError\u001b[0m: 'banana'"
     ]
    }
   ],
   "source": [
    "d['banana']"
   ]
  },
  {
   "cell_type": "code",
   "execution_count": 37,
   "metadata": {
    "collapsed": true
   },
   "outputs": [],
   "source": [
    "d['banana']='plátano'"
   ]
  },
  {
   "cell_type": "code",
   "execution_count": 38,
   "metadata": {
    "collapsed": false
   },
   "outputs": [
    {
     "data": {
      "text/plain": [
       "{'banana': 'plátano',\n",
       " 'carrot': 'zanahoria',\n",
       " 'celery': 'apio',\n",
       " 'letuce': 'lechuga',\n",
       " 'onion': 'cebolla',\n",
       " 'potatoe': 'papa',\n",
       " 'tomatoe': 'tomate'}"
      ]
     },
     "execution_count": 38,
     "metadata": {},
     "output_type": "execute_result"
    }
   ],
   "source": [
    "d"
   ]
  }
 ],
 "metadata": {
  "kernelspec": {
   "display_name": "Python 3",
   "language": "python",
   "name": "python3"
  },
  "language_info": {
   "codemirror_mode": {
    "name": "ipython",
    "version": 3
   },
   "file_extension": ".py",
   "mimetype": "text/x-python",
   "name": "python",
   "nbconvert_exporter": "python",
   "pygments_lexer": "ipython3",
   "version": "3.4.2"
  }
 },
 "nbformat": 4,
 "nbformat_minor": 0
}
