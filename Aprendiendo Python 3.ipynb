{
 "cells": [
  {
   "cell_type": "markdown",
   "metadata": {},
   "source": [
    "# Aprendiendo Python (versión 3)\n",
    "## Parte 1: Básico"
   ]
  },
  {
   "cell_type": "code",
   "execution_count": 1,
   "metadata": {
    "collapsed": false
   },
   "outputs": [
    {
     "data": {
      "text/plain": [
       "42"
      ]
     },
     "execution_count": 1,
     "metadata": {},
     "output_type": "execute_result"
    }
   ],
   "source": [
    "# Las líneas con gato (#), son comentarios\n",
    "# ... pero hay que poner un gato por línea\n",
    "# ... y lo que está antes del gato no es comentario.\n",
    "42 # ... es respuesta a la pregunta fundamental a la vida, el universo y todo lo demás."
   ]
  },
  {
   "cell_type": "markdown",
   "metadata": {},
   "source": [
    "Tanto en la consola de Python como en las libretas de Jupyter, cuando tecleas un valor y lo corres (con [ENTER] o [SHIFT][ENTER], según el caso), se muestra enseguida dicho valor. Un ejemplo de esto es el 42 de la línea anterior."
   ]
  },
  {
   "cell_type": "code",
   "execution_count": 2,
   "metadata": {
    "collapsed": false
   },
   "outputs": [
    {
     "data": {
      "text/plain": [
       "'El respeto al derecho ajeno es la paz.'"
      ]
     },
     "execution_count": 2,
     "metadata": {},
     "output_type": "execute_result"
    }
   ],
   "source": [
    "# Ejemplos de valores en Python\n",
    "\"El respeto al derecho ajeno es la paz.\"  # cadena"
   ]
  },
  {
   "cell_type": "code",
   "execution_count": 3,
   "metadata": {
    "collapsed": false
   },
   "outputs": [
    {
     "data": {
      "text/plain": [
       "'Fernando \"el Toro\" Valenzuela'"
      ]
     },
     "execution_count": 3,
     "metadata": {},
     "output_type": "execute_result"
    }
   ],
   "source": [
    "'Fernando \"el Toro\" Valenzuela'  # cadena (por si requieres usar comillas dentro de una cadena)"
   ]
  },
  {
   "cell_type": "code",
   "execution_count": 4,
   "metadata": {
    "collapsed": false
   },
   "outputs": [
    {
     "data": {
      "text/plain": [
       "(2, 3, 4)"
      ]
     },
     "execution_count": 4,
     "metadata": {},
     "output_type": "execute_result"
    }
   ],
   "source": [
    "(2,3,4)  # esto se llama \"tupla\" en python"
   ]
  },
  {
   "cell_type": "code",
   "execution_count": 5,
   "metadata": {
    "collapsed": false
   },
   "outputs": [
    {
     "data": {
      "text/plain": [
       "'cadena con triple comilla\\nque puede ocupar varias líneas...'"
      ]
     },
     "execution_count": 5,
     "metadata": {},
     "output_type": "execute_result"
    }
   ],
   "source": [
    "\"\"\"cadena con triple comilla\n",
    "que puede ocupar varias líneas...\"\"\""
   ]
  },
  {
   "cell_type": "markdown",
   "metadata": {},
   "source": [
    "En las libretas, sólo el último valor se mostrará. En un programa (archivo con código y terminación '`.py`'), tendrás que usar `print` para mostrar valores, pues los valores por si sólos, como en los ejemplos anteriores, equivalen a comentarios:"
   ]
  },
  {
   "cell_type": "code",
   "execution_count": 6,
   "metadata": {
    "collapsed": false
   },
   "outputs": [
    {
     "data": {
      "text/plain": [
       "5"
      ]
     },
     "execution_count": 6,
     "metadata": {},
     "output_type": "execute_result"
    }
   ],
   "source": [
    "\"Lo siguiente calcula una suma:\"\n",
    "2+3"
   ]
  },
  {
   "cell_type": "code",
   "execution_count": 7,
   "metadata": {
    "collapsed": false
   },
   "outputs": [
    {
     "name": "stdout",
     "output_type": "stream",
     "text": [
      "Hola\n"
     ]
    }
   ],
   "source": [
    "print(\"Hola\")"
   ]
  },
  {
   "cell_type": "code",
   "execution_count": 8,
   "metadata": {
    "collapsed": false
   },
   "outputs": [
    {
     "name": "stdout",
     "output_type": "stream",
     "text": [
      "cadena con triple comilla\n",
      "que puede ocupar varias líneas...\n"
     ]
    }
   ],
   "source": [
    "print(\"\"\"cadena con triple comilla\n",
    "que puede ocupar varias líneas...\"\"\")"
   ]
  },
  {
   "cell_type": "code",
   "execution_count": 9,
   "metadata": {
    "collapsed": false
   },
   "outputs": [
    {
     "name": "stdout",
     "output_type": "stream",
     "text": [
      "5\n"
     ]
    }
   ],
   "source": [
    "print(2 + 3)"
   ]
  },
  {
   "cell_type": "markdown",
   "metadata": {},
   "source": [
    "En Python 2 no es necesario poner paréntesis con el `print`. En Python 3 el `print` DEBE llevar paréntesis."
   ]
  },
  {
   "cell_type": "markdown",
   "metadata": {},
   "source": [
    "## Operadores"
   ]
  },
  {
   "cell_type": "code",
   "execution_count": 10,
   "metadata": {
    "collapsed": false
   },
   "outputs": [
    {
     "data": {
      "text/plain": [
       "2"
      ]
     },
     "execution_count": 10,
     "metadata": {},
     "output_type": "execute_result"
    }
   ],
   "source": [
    "# División entera de enteros\n",
    "7 // 3"
   ]
  },
  {
   "cell_type": "code",
   "execution_count": 11,
   "metadata": {
    "collapsed": false
   },
   "outputs": [
    {
     "data": {
      "text/plain": [
       "1"
      ]
     },
     "execution_count": 11,
     "metadata": {},
     "output_type": "execute_result"
    }
   ],
   "source": [
    "# Módulo, a % b = c, si c es el residuo de la división de a entre b, i.e. (a // b) * b + c == a\n",
    "7 % 3"
   ]
  },
  {
   "cell_type": "code",
   "execution_count": 12,
   "metadata": {
    "collapsed": false
   },
   "outputs": [
    {
     "data": {
      "text/plain": [
       "True"
      ]
     },
     "execution_count": 12,
     "metadata": {},
     "output_type": "execute_result"
    }
   ],
   "source": [
    "# Compara valores (devuelve un valor booleano, verdadero o falso)\n",
    "2 * 3 == 6"
   ]
  },
  {
   "cell_type": "markdown",
   "metadata": {},
   "source": [
    "## Variables"
   ]
  },
  {
   "cell_type": "markdown",
   "metadata": {},
   "source": [
    "Para poderte referir a valores se pueden usar \"variables\", en Python estas son más como _etiquetas_ que se le _cuelgan_ a valores existentes. Los valores en Python se llaman formalmente **objetos**."
   ]
  },
  {
   "cell_type": "code",
   "execution_count": 13,
   "metadata": {
    "collapsed": false
   },
   "outputs": [
    {
     "name": "stdout",
     "output_type": "stream",
     "text": [
      "5\n"
     ]
    }
   ],
   "source": [
    "x = 5\n",
    "print(x)"
   ]
  },
  {
   "cell_type": "code",
   "execution_count": 14,
   "metadata": {
    "collapsed": true
   },
   "outputs": [],
   "source": [
    "y = x**2 + 2*x + 7"
   ]
  },
  {
   "cell_type": "code",
   "execution_count": 15,
   "metadata": {
    "collapsed": false
   },
   "outputs": [
    {
     "name": "stdout",
     "output_type": "stream",
     "text": [
      "Valor de x: 5 Valor de y: 42\n"
     ]
    }
   ],
   "source": [
    "print(\"Valor de x:\", x, \"Valor de y:\", y)"
   ]
  },
  {
   "cell_type": "code",
   "execution_count": 16,
   "metadata": {
    "collapsed": false
   },
   "outputs": [
    {
     "name": "stdout",
     "output_type": "stream",
     "text": [
      "Hola\n"
     ]
    }
   ],
   "source": [
    "# Todo en Python es objeto...\n",
    "p = print\n",
    "p(\"Hola\")"
   ]
  },
  {
   "cell_type": "markdown",
   "metadata": {},
   "source": [
    "Como puedes notar, en Python las \"variables\" no se \"declaran\", así su _tipo de dato_ es el del objeto que en ese momento tienen asignado."
   ]
  },
  {
   "cell_type": "code",
   "execution_count": 17,
   "metadata": {
    "collapsed": false
   },
   "outputs": [
    {
     "data": {
      "text/plain": [
       "(int, int)"
      ]
     },
     "execution_count": 17,
     "metadata": {},
     "output_type": "execute_result"
    }
   ],
   "source": [
    "x = 5\n",
    "type(5),  type(x)"
   ]
  },
  {
   "cell_type": "markdown",
   "metadata": {},
   "source": [
    "Todo objeto en Python tiene un _identificador_ único (difiere con cada corrida del programa). Pero nota como la variable no es un objeto por si misma, si no que es únicamente el objeto que tiene asignado:"
   ]
  },
  {
   "cell_type": "code",
   "execution_count": 18,
   "metadata": {
    "collapsed": false
   },
   "outputs": [
    {
     "name": "stdout",
     "output_type": "stream",
     "text": [
      "4297366624\n",
      "4297366624\n",
      "4297366624\n",
      "4297366656\n"
     ]
    }
   ],
   "source": [
    "x = 5\n",
    "y = 5\n",
    "print(id(5))\n",
    "print(id(x))  # El mismo que 5\n",
    "print(id(y))  # el mismo que 5\n",
    "print(id(6))  # otro valor"
   ]
  },
  {
   "cell_type": "markdown",
   "metadata": {},
   "source": [
    "En Python se pueden hacer listas de lo que sea... algunos las usan como arreglos o matrices, aunque no son muy veloces. Pero son muy útiles para pequeñas aplicaciones."
   ]
  },
  {
   "cell_type": "code",
   "execution_count": 19,
   "metadata": {
    "collapsed": false
   },
   "outputs": [
    {
     "name": "stdout",
     "output_type": "stream",
     "text": [
      "[1, 2, 3]\n",
      "[4, 5, 6]\n",
      "[1, 2, 3, 4, 5, 6]\n"
     ]
    }
   ],
   "source": [
    "a = [1, 2, 3]\n",
    "b = [4, 5, 6]\n",
    "print(a)\n",
    "print(b)\n",
    "print(a+b)  # '+' concatena listas (crea una nueva lista)"
   ]
  },
  {
   "cell_type": "markdown",
   "metadata": {},
   "source": [
    "Las listas son muy flexibles, aunque eso tiene un precio en espacio y tiempo de ejecución:"
   ]
  },
  {
   "cell_type": "code",
   "execution_count": 20,
   "metadata": {
    "collapsed": false
   },
   "outputs": [
    {
     "name": "stdout",
     "output_type": "stream",
     "text": [
      "['cabeza', ['pancita', [1, 2, 3, 'etc.']], 'colita']\n",
      "3\n"
     ]
    }
   ],
   "source": [
    "a = [\"cabeza\", [\"pancita\", [1, 2, 3, \"etc.\"]], \"colita\"]\n",
    "print(a)\n",
    "print(len(a))  # numero de elementos de la lista (en su nivel más exterior)"
   ]
  },
  {
   "cell_type": "markdown",
   "metadata": {
    "collapsed": true
   },
   "source": [
    "Un objeto se destruye si no hay variables que lo tengan asignado. Basta con reasignar una variable para \"destruir\" el objeto que contenía. Así en Python no tienes que preocuparte (mucho) por destruir objetos, se destruyen cuando ya no los usas."
   ]
  },
  {
   "cell_type": "code",
   "execution_count": 21,
   "metadata": {
    "collapsed": false
   },
   "outputs": [
    {
     "name": "stdout",
     "output_type": "stream",
     "text": [
      "x es una lista de 1000000 enteros\n",
      "x ocupa 9000112 bytes\n",
      "x ahora es un sólo entero\n",
      "x ahora ocupa 28 bytes\n"
     ]
    }
   ],
   "source": [
    "x = list(range(1000000))\n",
    "print(\"x es una lista de\", len(x), \"enteros\")\n",
    "import sys\n",
    "print(\"x ocupa\", sys.getsizeof(x), \"bytes\")\n",
    "x = 5\n",
    "print(\"x ahora es un sólo entero\")\n",
    "print(\"x ahora ocupa\", sys.getsizeof(x), \"bytes\")"
   ]
  },
  {
   "cell_type": "markdown",
   "metadata": {},
   "source": [
    "## Iteraciones"
   ]
  },
  {
   "cell_type": "code",
   "execution_count": 22,
   "metadata": {
    "collapsed": false
   },
   "outputs": [
    {
     "name": "stdout",
     "output_type": "stream",
     "text": [
      "poly quiere una galleta, poly quiere una galleta, poly quiere una galleta, \n"
     ]
    }
   ],
   "source": [
    "print(\"poly quiere una galleta, \" * 3)"
   ]
  },
  {
   "cell_type": "code",
   "execution_count": 23,
   "metadata": {
    "collapsed": false
   },
   "outputs": [
    {
     "name": "stdout",
     "output_type": "stream",
     "text": [
      "* * * * * \n",
      "* * * * * \n",
      "* * * * * \n",
      "* * * * * \n",
      "* * * * * \n",
      "* * * * * \n",
      "* * * * * \n",
      "* * * * * \n",
      "* * * * * \n",
      "* * * * * \n",
      "\n"
     ]
    }
   ],
   "source": [
    "# las repeticiones de cadenas pueden ser más complicadas\n",
    "print((\"* \"*5+\"\\n\")*10)"
   ]
  },
  {
   "cell_type": "code",
   "execution_count": 24,
   "metadata": {
    "collapsed": false
   },
   "outputs": [
    {
     "name": "stdout",
     "output_type": "stream",
     "text": [
      "quiero mango\n",
      "quiero plátano\n",
      "quiero pera\n",
      "quiero manzana\n"
     ]
    }
   ],
   "source": [
    "frutas = ['mango', 'plátano', 'pera', 'manzana']\n",
    "for f in frutas:\n",
    "    print(\"quiero\", f)"
   ]
  },
  {
   "cell_type": "code",
   "execution_count": 25,
   "metadata": {
    "collapsed": false
   },
   "outputs": [
    {
     "name": "stdout",
     "output_type": "stream",
     "text": [
      "1 : quiero mango\n",
      "2 : quiero plátano\n",
      "3 : quiero pera\n",
      "4 : quiero manzana\n"
     ]
    }
   ],
   "source": [
    "# En Python, al contrario de otros lenguajes, no se suele iterar un entero\n",
    "# e indexar un iterable con él, sino se itera sobre el iterable (una lista por ejemplo)\n",
    "# y de ser necesario, se puede recuperar el índice de diversas formas, con un contador,\n",
    "# o con enumerate:\n",
    "for i, f in enumerate(frutas):\n",
    "    print(i+1, \": quiero\", f)"
   ]
  },
  {
   "cell_type": "code",
   "execution_count": 26,
   "metadata": {
    "collapsed": false
   },
   "outputs": [
    {
     "name": "stdout",
     "output_type": "stream",
     "text": [
      "La pera es muy jugosa!\n"
     ]
    }
   ],
   "source": [
    "print(\"La\", frutas[2],\"es muy jugosa!\")"
   ]
  },
  {
   "cell_type": "code",
   "execution_count": 27,
   "metadata": {
    "collapsed": false
   },
   "outputs": [
    {
     "name": "stdout",
     "output_type": "stream",
     "text": [
      "Una manzana al dia trae salud y alegría.\n"
     ]
    }
   ],
   "source": [
    "# el último elemento de toda lista tiene índice -1, el penúltimo -2, etc.\n",
    "print(\"Una\", frutas[-1], \"al dia trae salud y alegría.\")"
   ]
  },
  {
   "cell_type": "code",
   "execution_count": 28,
   "metadata": {
    "collapsed": false
   },
   "outputs": [
    {
     "name": "stdout",
     "output_type": "stream",
     "text": [
      "['mango', 'plátano', 'pera', 'manzana']\n"
     ]
    }
   ],
   "source": [
    "print(frutas)"
   ]
  },
  {
   "cell_type": "code",
   "execution_count": 29,
   "metadata": {
    "collapsed": false
   },
   "outputs": [
    {
     "name": "stdout",
     "output_type": "stream",
     "text": [
      "['mango', 'plátano', 'pera', 'manzana', 'mango', 'plátano', 'pera', 'manzana', 'mango', 'plátano', 'pera', 'manzana', 'mango', 'plátano', 'pera', 'manzana', 'mango', 'plátano', 'pera', 'manzana']\n"
     ]
    }
   ],
   "source": [
    "print(frutas * 5)"
   ]
  },
  {
   "cell_type": "code",
   "execution_count": 30,
   "metadata": {
    "collapsed": false
   },
   "outputs": [
    {
     "name": "stdout",
     "output_type": "stream",
     "text": [
      "['mango', 'plátano', 'pera', 'manzana', 'aguacate']\n"
     ]
    }
   ],
   "source": [
    "frutas.append(\"aguacate\")\n",
    "print(frutas)"
   ]
  },
  {
   "cell_type": "code",
   "execution_count": 43,
   "metadata": {
    "collapsed": false
   },
   "outputs": [
    {
     "name": "stdout",
     "output_type": "stream",
     "text": [
      "quiero más manzana\n",
      "quiero más frambuesa\n",
      "quiero más mango\n",
      "quiero más fresa\n",
      "quiero más aguacate\n",
      "quiero más kiwi\n",
      "quiero más pera\n",
      "quiero más plátano\n"
     ]
    }
   ],
   "source": [
    "frutas = ['mango', 'plátano', 'pera', 'manzana', 'aguacate']\n",
    "frutas.extend([\"fresa\", \"kiwi\", \"frambuesa\"]) # agrega varias de una vez\n",
    "import random  # trae el módulo para aleatorizar\n",
    "random.shuffle(frutas) # revuelve la lista\n",
    "for _ in frutas: print(\"quiero más\", _)"
   ]
  },
  {
   "cell_type": "code",
   "execution_count": 44,
   "metadata": {
    "collapsed": false
   },
   "outputs": [
    {
     "name": "stdout",
     "output_type": "stream",
     "text": [
      "x ocupa 8000048 bytes\n"
     ]
    }
   ],
   "source": [
    "# Las tuplas son como las listas pero no se pueden modificar\n",
    "# por ello son más rápidas yocupan menos espacio\n",
    "x = tuple(range(1000000))\n",
    "print(\"x ocupa\", sys.getsizeof(x), \"bytes\")"
   ]
  },
  {
   "cell_type": "code",
   "execution_count": 46,
   "metadata": {
    "collapsed": false
   },
   "outputs": [
    {
     "name": "stdout",
     "output_type": "stream",
     "text": [
      "2\n"
     ]
    }
   ],
   "source": [
    "x = (1, 2, 3)\n",
    "# x.append(4)    # error!\n",
    "print(x[1])"
   ]
  },
  {
   "cell_type": "code",
   "execution_count": 52,
   "metadata": {
    "collapsed": false
   },
   "outputs": [
    {
     "name": "stdout",
     "output_type": "stream",
     "text": [
      "a = 1\n",
      "b = 2\n",
      "c = 3\n"
     ]
    }
   ],
   "source": [
    "# En Python existen las asignaciones de tuplas de variables a un iterable\n",
    "a, b, c = x\n",
    "print(\"a =\", a)\n",
    "print(\"b =\", b)\n",
    "print(\"c =\", c)"
   ]
  },
  {
   "cell_type": "code",
   "execution_count": 53,
   "metadata": {
    "collapsed": false
   },
   "outputs": [
    {
     "name": "stdout",
     "output_type": "stream",
     "text": [
      "a = 3\n",
      "b = 1\n",
      "c = 2\n"
     ]
    }
   ],
   "source": [
    "b, c, a = a, b, c\n",
    "print(\"a =\", a)\n",
    "print(\"b =\", b)\n",
    "print(\"c =\", c)"
   ]
  },
  {
   "cell_type": "code",
   "execution_count": 56,
   "metadata": {
    "collapsed": false
   },
   "outputs": [
    {
     "name": "stdout",
     "output_type": "stream",
     "text": [
      "x = 7 , y = 5\n"
     ]
    }
   ],
   "source": [
    "x = 5\n",
    "y = 7\n",
    "x, y = y, x  # intercambia dos valores\n",
    "print(\"x =\",x, \", y =\", y)"
   ]
  },
  {
   "cell_type": "code",
   "execution_count": 61,
   "metadata": {
    "collapsed": false
   },
   "outputs": [
    {
     "name": "stdout",
     "output_type": "stream",
     "text": [
      "(0, 0)  (0, 1)  (0, 2)  (0, 3)  (0, 4)  (0, 5)  (0, 6)  \n",
      "(1, 0)  (1, 1)  (1, 2)  (1, 3)  (1, 4)  (1, 5)  (1, 6)  \n",
      "(2, 0)  (2, 1)  (2, 2)  (2, 3)  (2, 4)  (2, 5)  (2, 6)  \n",
      "(3, 0)  (3, 1)  (3, 2)  (3, 3)  (3, 4)  (3, 5)  (3, 6)  \n",
      "(4, 0)  (4, 1)  (4, 2)  (4, 3)  (4, 4)  (4, 5)  (4, 6)  \n"
     ]
    }
   ],
   "source": [
    "# En Python basta indentar (una cantidad fija de espacios al inicio de una fila) para indicar\n",
    "# filas dentro de un bloque. Como hemos visto, el \"for\" lleva \":\" al final, indicando que lo\n",
    "# que viene es una expresión o un bloque de estas.\n",
    "for fila in range(5):\n",
    "    for columna in range(7):\n",
    "        print((fila, columna), end=\"  \") # en vez de cambiar de línea, se imprime lo de \"end\"\n",
    "    print() # este print está fuera del 2o ciclo, pero dentro del primero"
   ]
  },
  {
   "cell_type": "code",
   "execution_count": 68,
   "metadata": {
    "collapsed": false
   },
   "outputs": [
    {
     "name": "stdout",
     "output_type": "stream",
     "text": [
      "        \n",
      "         \n",
      "        \n",
      "         \n",
      "        \n",
      "         \n",
      "        \n",
      "         \n"
     ]
    }
   ],
   "source": [
    "for i in range(8):\n",
    "    print(\" \" * (i%2) + \" \" * 8)"
   ]
  },
  {
   "cell_type": "code",
   "execution_count": 69,
   "metadata": {
    "collapsed": false
   },
   "outputs": [
    {
     "name": "stdout",
     "output_type": "stream",
     "text": [
      "\n",
      "◊ \n",
      "◊ ◊ \n",
      "◊ ◊ ◊ \n",
      "◊ ◊ ◊ ◊ \n",
      "◊ ◊ ◊ ◊ ◊ \n",
      "◊ ◊ ◊ ◊ ◊ ◊ \n",
      "◊ ◊ ◊ ◊ ◊ ◊ ◊ \n",
      "◊ ◊ ◊ ◊ ◊ ◊ ◊ ◊ \n",
      "◊ ◊ ◊ ◊ ◊ ◊ ◊ ◊ ◊ \n"
     ]
    }
   ],
   "source": [
    "for i in range(10):\n",
    "    print(\"◊ \" * i)\n",
    "    "
   ]
  },
  {
   "cell_type": "markdown",
   "metadata": {},
   "source": [
    "# Condiciones"
   ]
  },
  {
   "cell_type": "code",
   "execution_count": 78,
   "metadata": {
    "collapsed": false
   },
   "outputs": [
    {
     "name": "stdout",
     "output_type": "stream",
     "text": [
      "Dime un número: 08\n",
      "El número 8 es par\n"
     ]
    }
   ],
   "source": [
    "x = int(input(\"Dime un número: \"))\n",
    "if x % 2 == 0:\n",
    "    print(\"El número {} es par\".format(x))\n",
    "else:\n",
    "    print(\"El número {} es impar\".format(x))"
   ]
  },
  {
   "cell_type": "code",
   "execution_count": null,
   "metadata": {
    "collapsed": true
   },
   "outputs": [],
   "source": []
  }
 ],
 "metadata": {
  "kernelspec": {
   "display_name": "Python 3",
   "language": "python",
   "name": "python3"
  },
  "language_info": {
   "codemirror_mode": {
    "name": "ipython",
    "version": 3
   },
   "file_extension": ".py",
   "mimetype": "text/x-python",
   "name": "python",
   "nbconvert_exporter": "python",
   "pygments_lexer": "ipython3",
   "version": "3.4.2"
  }
 },
 "nbformat": 4,
 "nbformat_minor": 0
}
