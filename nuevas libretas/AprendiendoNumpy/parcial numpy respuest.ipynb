{
 "cells": [
  {
   "cell_type": "code",
   "execution_count": 1,
   "metadata": {
    "collapsed": true
   },
   "outputs": [],
   "source": [
    "import numpy as np"
   ]
  },
  {
   "cell_type": "code",
   "execution_count": 2,
   "metadata": {
    "collapsed": false
   },
   "outputs": [
    {
     "data": {
      "text/plain": [
       "array([[   1,    4,    9,   16,   25],\n",
       "       [  36,   49,   64,   81,  100],\n",
       "       [ 121,  144,  169,  196,  225],\n",
       "       [ 256,  289,  324,  361,  400],\n",
       "       [ 441,  484,  529,  576,  625],\n",
       "       [ 676,  729,  784,  841,  900],\n",
       "       [ 961, 1024, 1089, 1156, 1225],\n",
       "       [1296, 1369, 1444, 1521, 1600],\n",
       "       [1681, 1764, 1849, 1936, 2025]])"
      ]
     },
     "execution_count": 2,
     "metadata": {},
     "output_type": "execute_result"
    }
   ],
   "source": [
    "arr = np.array(np.arange(1, 46)).reshape(9,5) ** 2\n",
    "arr"
   ]
  },
  {
   "cell_type": "code",
   "execution_count": 3,
   "metadata": {
    "collapsed": false
   },
   "outputs": [
    {
     "data": {
      "text/plain": [
       "array([ 36,  49,  64,  81, 100])"
      ]
     },
     "execution_count": 3,
     "metadata": {},
     "output_type": "execute_result"
    }
   ],
   "source": [
    "segundo = arr[1]\n",
    "segundo"
   ]
  },
  {
   "cell_type": "code",
   "execution_count": 4,
   "metadata": {
    "collapsed": false
   },
   "outputs": [
    {
     "data": {
      "text/plain": [
       "array([[ -35,  -45,  -55,  -65,  -75],\n",
       "       [   0,    0,    0,    0,    0],\n",
       "       [  85,   95,  105,  115,  125],\n",
       "       [ 220,  240,  260,  280,  300],\n",
       "       [ 405,  435,  465,  495,  525],\n",
       "       [ 640,  680,  720,  760,  800],\n",
       "       [ 925,  975, 1025, 1075, 1125],\n",
       "       [1260, 1320, 1380, 1440, 1500],\n",
       "       [1645, 1715, 1785, 1855, 1925]])"
      ]
     },
     "execution_count": 4,
     "metadata": {},
     "output_type": "execute_result"
    }
   ],
   "source": [
    "y = arr - segundo\n",
    "y"
   ]
  },
  {
   "cell_type": "code",
   "execution_count": 5,
   "metadata": {
    "collapsed": false
   },
   "outputs": [
    {
     "data": {
      "text/plain": [
       "array([[   9],\n",
       "       [  64],\n",
       "       [ 169],\n",
       "       [ 324],\n",
       "       [ 529],\n",
       "       [ 784],\n",
       "       [1089],\n",
       "       [1444],\n",
       "       [1849]])"
      ]
     },
     "execution_count": 5,
     "metadata": {},
     "output_type": "execute_result"
    }
   ],
   "source": [
    "tercera = arr[:,2:3]\n",
    "tercera"
   ]
  },
  {
   "cell_type": "code",
   "execution_count": 6,
   "metadata": {
    "collapsed": false
   },
   "outputs": [
    {
     "data": {
      "text/plain": [
       "array([[  10,   13,   18,   25,   34],\n",
       "       [ 100,  113,  128,  145,  164],\n",
       "       [ 290,  313,  338,  365,  394],\n",
       "       [ 580,  613,  648,  685,  724],\n",
       "       [ 970, 1013, 1058, 1105, 1154],\n",
       "       [1460, 1513, 1568, 1625, 1684],\n",
       "       [2050, 2113, 2178, 2245, 2314],\n",
       "       [2740, 2813, 2888, 2965, 3044],\n",
       "       [3530, 3613, 3698, 3785, 3874]])"
      ]
     },
     "execution_count": 6,
     "metadata": {},
     "output_type": "execute_result"
    }
   ],
   "source": [
    "x = arr + tercera\n",
    "x"
   ]
  },
  {
   "cell_type": "code",
   "execution_count": 7,
   "metadata": {
    "collapsed": false
   },
   "outputs": [
    {
     "data": {
      "text/plain": [
       "array([[ 80, 103, 128, 155, 184],\n",
       "       [100, 113, 128, 145, 164],\n",
       "       [120, 123, 128, 135, 144],\n",
       "       [140, 133, 128, 125, 124],\n",
       "       [160, 143, 128, 115, 104],\n",
       "       [180, 153, 128, 105,  84],\n",
       "       [200, 163, 128,  95,  64],\n",
       "       [220, 173, 128,  85,  44],\n",
       "       [240, 183, 128,  75,  24]])"
      ]
     },
     "execution_count": 7,
     "metadata": {},
     "output_type": "execute_result"
    }
   ],
   "source": [
    "z = x - 2 * y\n",
    "z"
   ]
  },
  {
   "cell_type": "code",
   "execution_count": 8,
   "metadata": {
    "collapsed": false
   },
   "outputs": [
    {
     "data": {
      "text/plain": [
       "array([0, 1])"
      ]
     },
     "execution_count": 8,
     "metadata": {},
     "output_type": "execute_result"
    }
   ],
   "source": [
    "creciente = (z[:-1,:] < z[1:, :]).all(axis=0)\n",
    "np.arange(5)[creciente]"
   ]
  },
  {
   "cell_type": "code",
   "execution_count": 9,
   "metadata": {
    "collapsed": false
   },
   "outputs": [
    {
     "data": {
      "text/plain": [
       "array([3, 4])"
      ]
     },
     "execution_count": 9,
     "metadata": {},
     "output_type": "execute_result"
    }
   ],
   "source": [
    "decreciente = (z[:-1,:] > z[1:, :]).all(axis=0)\n",
    "np.arange(5)[decreciente]"
   ]
  },
  {
   "cell_type": "code",
   "execution_count": 10,
   "metadata": {
    "collapsed": false
   },
   "outputs": [
    {
     "data": {
      "text/plain": [
       "array([2])"
      ]
     },
     "execution_count": 10,
     "metadata": {},
     "output_type": "execute_result"
    }
   ],
   "source": [
    "iguales = (z[:-1,:] == z[1:, :]).all(axis=0)\n",
    "np.arange(5)[iguales]"
   ]
  },
  {
   "cell_type": "code",
   "execution_count": 11,
   "metadata": {
    "collapsed": false
   },
   "outputs": [
    {
     "data": {
      "text/plain": [
       "<matplotlib.image.AxesImage at 0x107bc5eb8>"
      ]
     },
     "execution_count": 11,
     "metadata": {},
     "output_type": "execute_result"
    },
    {
     "data": {
      "image/png": "[encoded data removed]",
      "text/plain": [
       "<matplotlib.figure.Figure at 0x105bddd30>"
      ]
     },
     "metadata": {},
     "output_type": "display_data"
    }
   ],
   "source": [
    "import matplotlib.pyplot as plt\n",
    "%matplotlib inline\n",
    "zm = z.mean(axis=1).reshape(9,1)\n",
    "plt.matshow(z - zm)"
   ]
  }
 ],
 "metadata": {
  "kernelspec": {
   "display_name": "Python 3",
   "language": "python",
   "name": "python3"
  },
  "language_info": {
   "codemirror_mode": {
    "name": "ipython",
    "version": 3
   },
   "file_extension": ".py",
   "mimetype": "text/x-python",
   "name": "python",
   "nbconvert_exporter": "python",
   "pygments_lexer": "ipython3",
   "version": "3.4.2"
  }
 },
 "nbformat": 4,
 "nbformat_minor": 0
}
