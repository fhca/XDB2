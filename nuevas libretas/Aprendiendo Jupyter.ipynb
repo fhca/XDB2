{
 "cells": [
  {
   "cell_type": "markdown",
   "metadata": {},
   "source": [
    "# Aprendiendo Jupyter\n",
    "Jupyter es un proyecto derivado de IPython que permite la creación de **libretas** (notebooks) interactivas, esto es, hipertextos mezclados con código ejecutable.\n",
    "\n",
    "Inicialmente IPython fue desarrollado para el lenguaje Python, sin embargo Jupyter soporta ya varios otros lenguajes y ambientes de desarrollo (llamados kernels) los cuales incluyen R, Julia and Scala.\n",
    "\n",
    "Jupyter está patrocinado por empresas como Google y Microsoft, y por instituciones públicas como la Universidad de California en Berkeley."
   ]
  },
  {
   "cell_type": "markdown",
   "metadata": {},
   "source": [
    "## Ejecutando Jupyter\n",
    "Aquí veremos la ejecución de Jupyter con el kernel de Python.\n",
    "\n",
    "Una vez instalado, desde una terminal se puede teclear `jupyter notebook` para iniciar directamente con las libretas Esto crea una *libreta*, la cual es un archivo (internamente usa XML para almacenarse) con extensión `.ipynb` que se visualiza normalmente en un navegador, por lo que al teclear `jupyter notebook`se abrirá el navegador y el logiotipo y menús de Jupyter. ![Menú de Jupyter con algun contenido](menu_jupyter.png)\n",
    "\n",
    "Se puede abrir también una terminal gráfica con otras opciones, ver `jupyter --help` para más opciones."
   ]
  },
  {
   "cell_type": "markdown",
   "metadata": {},
   "source": [
    "Lo primero que aparece es el árbol de archivos y directorios de la trayectoria donde se haya abierto. De ahí se puede seleccionar una libreta ya creada o crear una nueva. Con el Menú `File` podemos crear una nueva libreta en `New notebook >> Python 3`. Luego del logotipo de Jupyter, viene el nombre del archivo\n",
    "\n"
   ]
  }
 ],
 "metadata": {
  "kernelspec": {
   "display_name": "Python 3",
   "language": "python",
   "name": "python3"
  },
  "language_info": {
   "codemirror_mode": {
    "name": "ipython",
    "version": 3
   },
   "file_extension": ".py",
   "mimetype": "text/x-python",
   "name": "python",
   "nbconvert_exporter": "python",
   "pygments_lexer": "ipython3",
   "version": "3.4.2"
  }
 },
 "nbformat": 4,
 "nbformat_minor": 0
}
